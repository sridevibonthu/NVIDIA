{
  "cells": [
    {
      "cell_type": "code",
      "execution_count": null,
      "metadata": {
        "colab": {
          "base_uri": "https://localhost:8080/"
        },
        "id": "DwCcauaeup7P",
        "outputId": "618505e9-fdc6-4d34-89e5-344aace1434d"
      },
      "outputs": [
        {
          "output_type": "stream",
          "name": "stdout",
          "text": [
            "--- Section 1: Installing required packages ---\n",
            "Installation complete.\n",
            "\n"
          ]
        }
      ],
      "source": [
        "# -*- coding: utf-8 -*-\n",
        "print(\"--- Section 1: Installing required packages ---\")\n",
        "!pip install torch datasets transformers scikit-learn accelerate pandas seaborn matplotlib -q\n",
        "print(\"Installation complete.\\n\")"
      ]
    },
    {
      "cell_type": "code",
      "execution_count": null,
      "metadata": {
        "colab": {
          "base_uri": "https://localhost:8080/"
        },
        "id": "cVWxilhPup7R",
        "outputId": "60d4cf7b-cb3f-4b30-9162-5db18c3024b2"
      },
      "outputs": [
        {
          "output_type": "stream",
          "name": "stdout",
          "text": [
            "Imports complete.\n",
            "\n"
          ]
        }
      ],
      "source": [
        "import torch\n",
        "import torch.nn as nn\n",
        "# Import AdamW from transformers\n",
        "from torch.optim import AdamW\n",
        "from torch.utils.data import DataLoader, Dataset\n",
        "from datasets import load_dataset\n",
        "# Import the specific BERT model for sequence classification and the tokenizer\n",
        "from transformers import AutoTokenizer, BertForSequenceClassification\n",
        "from sklearn.metrics import accuracy_score, classification_report, confusion_matrix\n",
        "import time\n",
        "import pandas as pd\n",
        "import seaborn as sns\n",
        "import matplotlib.pyplot as plt\n",
        "print(\"Imports complete.\\n\")"
      ]
    },
    {
      "cell_type": "code",
      "execution_count": null,
      "metadata": {
        "colab": {
          "base_uri": "https://localhost:8080/"
        },
        "id": "dUtLfz2TYTxv",
        "outputId": "42d9145b-2d55-4a6f-bd18-776fa469c3a0"
      },
      "outputs": [
        {
          "output_type": "stream",
          "name": "stdout",
          "text": [
            "Using device: cuda\n"
          ]
        }
      ],
      "source": [
        "# Start timer to track execution time.\n",
        "start_time = time.time()\n",
        "\n",
        "# Set device to GPU (cuda) if available, otherwise use CPU.\n",
        "device = torch.device(\"cuda\" if torch.cuda.is_available() else \"cpu\")\n",
        "print(f\"Using device: {device}\")"
      ]
    },
    {
      "cell_type": "code",
      "execution_count": null,
      "metadata": {
        "colab": {
          "base_uri": "https://localhost:8080/"
        },
        "id": "ezj1n_-Tup7R",
        "outputId": "194dbc08-3462-4caf-96f8-8f6f49f3ccc3"
      },
      "outputs": [
        {
          "output_type": "stream",
          "name": "stdout",
          "text": [
            "Setup complete.\n",
            "\n",
            "NOTE: Using BATCH_SIZE=32, EPOCHS=15, LR=2e-05 for BERT fine-tuning.\n"
          ]
        }
      ],
      "source": [
        "# Configuration parameters\n",
        "MODEL_NAME = \"bert-base-uncased\" # Use BERT pre-trained weights and tokenizer\n",
        "DATASET_NAME = \"ag_news\"\n",
        "MAX_LENGTH = 128 # Max sequence length for tokenizer\n",
        "BATCH_SIZE = 32 # Reduced batch size for BERT on Colab\n",
        "LEARNING_RATE = 2e-5 # Lower learning rate is common for fine-tuning BERT\n",
        "EPOCHS = 15 # Reduced epochs as BERT fine-tuning converges faster (and saves time)\n",
        "TRAIN_SUBSET_SIZE = 2000 # Use a subset for faster training\n",
        "TEST_SUBSET_SIZE = 200 # Use a subset for faster evaluation\n",
        "\n",
        "print(\"Setup complete.\\n\")\n",
        "print(f\"NOTE: Using BATCH_SIZE={BATCH_SIZE}, EPOCHS={EPOCHS}, LR={LEARNING_RATE} for BERT fine-tuning.\")"
      ]
    },
    {
      "cell_type": "code",
      "execution_count": null,
      "metadata": {
        "colab": {
          "base_uri": "https://localhost:8080/"
        },
        "id": "EV2z5iZLfxon",
        "outputId": "1d626cb2-df36-4af4-b71a-299d70fa8bdc"
      },
      "outputs": [
        {
          "output_type": "stream",
          "name": "stderr",
          "text": [
            "/usr/local/lib/python3.11/dist-packages/huggingface_hub/utils/_auth.py:94: UserWarning: \n",
            "The secret `HF_TOKEN` does not exist in your Colab secrets.\n",
            "To authenticate with the Hugging Face Hub, create a token in your settings tab (https://huggingface.co/settings/tokens), set it as secret in your Google Colab and restart your session.\n",
            "You will be able to reuse this secret in all of your notebooks.\n",
            "Please note that authentication is recommended but still optional to access public models or datasets.\n",
            "  warnings.warn(\n"
          ]
        }
      ],
      "source": [
        "# Load subsets of the train and test splits\n",
        "dataset = load_dataset(DATASET_NAME, split={\n",
        "    'train': f'train[:{TRAIN_SUBSET_SIZE}]',\n",
        "    'test': f'test[:{TEST_SUBSET_SIZE}]'\n",
        "})"
      ]
    },
    {
      "cell_type": "code",
      "execution_count": null,
      "metadata": {
        "colab": {
          "base_uri": "https://localhost:8080/"
        },
        "id": "HbQrgP7Nup7T",
        "outputId": "17177ce2-581b-4618-f667-7db0ea69616d"
      },
      "outputs": [
        {
          "output_type": "stream",
          "name": "stdout",
          "text": [
            "Dataset loaded.\n",
            "Number of training examples: 2000\n",
            "Number of test examples: 200\n",
            "Number of classes: 4\n",
            "Class labels: {0: 'World', 1: 'Sports', 2: 'Business', 3: 'Sci/Tech'}\n",
            "\n"
          ]
        }
      ],
      "source": [
        "# Define the mapping from label index to label name\n",
        "# AG News class labels: 0: World, 1: Sports, 2: Business, 3: Sci/Tech\n",
        "label_map = {0: 'World', 1: 'Sports', 2: 'Business', 3: 'Sci/Tech'}\n",
        "num_classes = len(dataset['train'].unique(\"label\"))\n",
        "\n",
        "print(f\"Dataset loaded.\")\n",
        "print(f\"Number of training examples: {len(dataset['train'])}\")\n",
        "print(f\"Number of test examples: {len(dataset['test'])}\")\n",
        "print(f\"Number of classes: {num_classes}\")\n",
        "print(f\"Class labels: {label_map}\\n\")"
      ]
    },
    {
      "cell_type": "code",
      "execution_count": null,
      "metadata": {
        "colab": {
          "base_uri": "https://localhost:8080/"
        },
        "id": "G9ySdqwBup7U",
        "outputId": "62713ed2-b7d8-4117-d4fa-a49a42d808de"
      },
      "outputs": [
        {
          "output_type": "stream",
          "name": "stdout",
          "text": [
            "Tokenizer loaded.\n"
          ]
        }
      ],
      "source": [
        "tokenizer = AutoTokenizer.from_pretrained(MODEL_NAME)\n",
        "\n",
        "print(f\"Tokenizer loaded.\")"
      ]
    },
    {
      "cell_type": "code",
      "execution_count": null,
      "metadata": {
        "colab": {
          "base_uri": "https://localhost:8080/",
          "height": 203,
          "referenced_widgets": [
            "3f5894824d4848a8b09aedb4d57fa3b6",
            "3b05806f4ba7410b882e1c29b8c9f5cb",
            "edc2ec6e45cd488ebba368a7d9ae813e",
            "e39f19bcfbff41f380a8490faec8bc47",
            "904a1b463938493ab2d51f971520cd10",
            "8f76017c53ff45fc90b395c3669637f9",
            "d1e78899006847f5b800789f4cfc8654",
            "7470ae96baec4578a0c3a40d7ac03734",
            "f7b817e412fc43b0bdf43fe942013857",
            "321bee7c664e4596b9e96e728787b48c",
            "86daa690dc84416e9efcbaac1713649c",
            "71fa475f1dbf4e3b8754bbbf0aaee050",
            "6300c0a3f46c4eb396334e7f4dfec1bc",
            "290b145c00964d8da155580cbac63b15",
            "f98f878eaef34f42a4bdcadc34687d10",
            "90f4832191fe40ad908ed7c3c6c6e725",
            "da989d4a6888421887e05cc26ccff549",
            "fa618c781abe495e8a422875b58440ef",
            "7f28d94b9550427da02fd7b299eb58ec",
            "7802e1e7576245aa8e9832db6a0c31c4",
            "385b495200fc43c8824de8af16f6f2a3",
            "6a03520984cd48cfba9dae51cd93fad9"
          ]
        },
        "id": "zFy_zVj4up7V",
        "outputId": "e036ad5d-4a2c-4e78-a052-16dd0ef5b686"
      },
      "outputs": [
        {
          "output_type": "stream",
          "name": "stdout",
          "text": [
            "--- Section 8: Preprocessing Dataset ---\n",
            "Applying tokenization to the dataset...\n"
          ]
        },
        {
          "output_type": "display_data",
          "data": {
            "text/plain": [
              "Map:   0%|          | 0/2000 [00:00<?, ? examples/s]"
            ],
            "application/vnd.jupyter.widget-view+json": {
              "version_major": 2,
              "version_minor": 0,
              "model_id": "3f5894824d4848a8b09aedb4d57fa3b6"
            }
          },
          "metadata": {}
        },
        {
          "output_type": "display_data",
          "data": {
            "text/plain": [
              "Map:   0%|          | 0/200 [00:00<?, ? examples/s]"
            ],
            "application/vnd.jupyter.widget-view+json": {
              "version_major": 2,
              "version_minor": 0,
              "model_id": "71fa475f1dbf4e3b8754bbbf0aaee050"
            }
          },
          "metadata": {}
        },
        {
          "output_type": "stream",
          "name": "stdout",
          "text": [
            "Preprocessing complete. Dataset formatted for PyTorch.\n",
            "Train dataset columns: ['text', 'labels', 'input_ids', 'token_type_ids', 'attention_mask']\n",
            "Test dataset columns: ['text', 'labels', 'input_ids', 'token_type_ids', 'attention_mask']\n",
            "\n",
            "\n"
          ]
        }
      ],
      "source": [
        "print(\"--- Section 8: Preprocessing Dataset ---\")\n",
        "# Define a function to tokenize the text data.\n",
        "def preprocess_function(examples):\n",
        "    return tokenizer(examples['text'], padding='max_length', truncation=True, max_length=MAX_LENGTH)\n",
        "\n",
        "# Apply the preprocessing function to the dataset.\n",
        "print(\"Applying tokenization to the dataset...\")\n",
        "encoded_dataset = dataset.map(preprocess_function, batched=True)\n",
        "\n",
        "# Rename 'label' to 'labels' for Hugging Face model compatibility\n",
        "encoded_dataset = encoded_dataset.rename_column(\"label\", \"labels\")\n",
        "\n",
        "# Set the format to PyTorch tensors for columns needed by the model.\n",
        "encoded_dataset.set_format(type='torch', columns=['input_ids', 'attention_mask', 'labels'])\n",
        "\n",
        "\n",
        "# Separate the processed train and test sets\n",
        "train_dataset = encoded_dataset['train']\n",
        "test_dataset = encoded_dataset['test']\n",
        "print(\"Preprocessing complete. Dataset formatted for PyTorch.\")\n",
        "# Check column names:\n",
        "print(f\"Train dataset columns: {train_dataset.column_names}\")\n",
        "print(f\"Test dataset columns: {test_dataset.column_names}\")\n",
        "print(\"\\n\")"
      ]
    },
    {
      "cell_type": "code",
      "execution_count": null,
      "metadata": {
        "colab": {
          "base_uri": "https://localhost:8080/"
        },
        "id": "2Z-QgyiEup7V",
        "outputId": "485328d3-0344-45cf-f6d3-366ff9dcb5e5"
      },
      "outputs": [
        {
          "output_type": "stream",
          "name": "stdout",
          "text": [
            "DataLoaders created with batch size 32.\n",
            "Number of batches in train_dataloader: 63\n",
            "Number of batches in test_dataloader: 7\n",
            "\n",
            "\n"
          ]
        }
      ],
      "source": [
        "train_dataloader = DataLoader(train_dataset, batch_size=BATCH_SIZE, shuffle=True)\n",
        "# For evaluation, keep the same structure for simplicity\n",
        "test_dataloader = DataLoader(test_dataset, batch_size=BATCH_SIZE)\n",
        "print(f\"DataLoaders created with batch size {BATCH_SIZE}.\")\n",
        "print(f\"Number of batches in train_dataloader: {len(train_dataloader)}\")\n",
        "print(f\"Number of batches in test_dataloader: {len(test_dataloader)}\")\n",
        "print(\"\\n\")"
      ]
    },
    {
      "cell_type": "code",
      "execution_count": null,
      "metadata": {
        "colab": {
          "base_uri": "https://localhost:8080/"
        },
        "id": "SOqXNVjMup7W",
        "outputId": "e16701c6-e7cf-4195-966c-66b5be91007d"
      },
      "outputs": [
        {
          "output_type": "stream",
          "name": "stderr",
          "text": [
            "Some weights of BertForSequenceClassification were not initialized from the model checkpoint at bert-base-uncased and are newly initialized: ['classifier.bias', 'classifier.weight']\n",
            "You should probably TRAIN this model on a down-stream task to be able to use it for predictions and inference.\n"
          ]
        },
        {
          "output_type": "stream",
          "name": "stdout",
          "text": [
            "Loaded 'bert-base-uncased' for sequence classification with 4 labels.\n",
            "The final classification layer weights are randomly initialized and need fine-tuning.\n",
            "\n"
          ]
        }
      ],
      "source": [
        "# Load the BertForSequenceClassification model\n",
        "# - MODEL_NAME specifies the BERT variant (bert-base-uncased)\n",
        "# - num_labels tells the model how many output classes the classification head should have.\n",
        "model = BertForSequenceClassification.from_pretrained(\n",
        "    MODEL_NAME,\n",
        "    num_labels=num_classes\n",
        ")\n",
        "\n",
        "# Total 12 layers in bert-base-uncased → keep top 1 trainable (layer 11)\n",
        "for name, param in model.bert.named_parameters():\n",
        "    if name.startswith(\"encoder.layer.\"):\n",
        "        layer_num = int(name.split(\".\")[2])\n",
        "        if layer_num < 11:\n",
        "            param.requires_grad = False\n",
        "\n",
        "# Move the model to the designated device\n",
        "model.to(device)\n",
        "\n",
        "print(f\"Loaded '{MODEL_NAME}' for sequence classification with {num_classes} labels.\")\n",
        "print(\"The final classification layer weights are randomly initialized and need fine-tuning.\\n\")"
      ]
    },
    {
      "cell_type": "code",
      "execution_count": null,
      "metadata": {
        "colab": {
          "base_uri": "https://localhost:8080/"
        },
        "id": "3RNB1d2xup7W",
        "outputId": "442aae46-197c-45eb-960e-2a94f1bd8584"
      },
      "outputs": [
        {
          "output_type": "stream",
          "name": "stdout",
          "text": [
            "Optimizer (AdamW) instantiated.\n"
          ]
        }
      ],
      "source": [
        "# Define the optimizer (AdamW recommended for Transformers)\n",
        "optimizer = AdamW(model.parameters(), lr=LEARNING_RATE)\n",
        "\n",
        "print(\"Optimizer (AdamW) instantiated.\")"
      ]
    },
    {
      "cell_type": "code",
      "execution_count": null,
      "metadata": {
        "colab": {
          "base_uri": "https://localhost:8080/"
        },
        "id": "1XNnV004up7X",
        "outputId": "d217ec50-c600-4e54-f7cd-733b18a46e0b"
      },
      "outputs": [
        {
          "output_type": "stream",
          "name": "stdout",
          "text": [
            "BertForSequenceClassification(\n",
            "  (bert): BertModel(\n",
            "    (embeddings): BertEmbeddings(\n",
            "      (word_embeddings): Embedding(30522, 768, padding_idx=0)\n",
            "      (position_embeddings): Embedding(512, 768)\n",
            "      (token_type_embeddings): Embedding(2, 768)\n",
            "      (LayerNorm): LayerNorm((768,), eps=1e-12, elementwise_affine=True)\n",
            "      (dropout): Dropout(p=0.1, inplace=False)\n",
            "    )\n",
            "    (encoder): BertEncoder(\n",
            "      (layer): ModuleList(\n",
            "        (0-11): 12 x BertLayer(\n",
            "          (attention): BertAttention(\n",
            "            (self): BertSdpaSelfAttention(\n",
            "              (query): Linear(in_features=768, out_features=768, bias=True)\n",
            "              (key): Linear(in_features=768, out_features=768, bias=True)\n",
            "              (value): Linear(in_features=768, out_features=768, bias=True)\n",
            "              (dropout): Dropout(p=0.1, inplace=False)\n",
            "            )\n",
            "            (output): BertSelfOutput(\n",
            "              (dense): Linear(in_features=768, out_features=768, bias=True)\n",
            "              (LayerNorm): LayerNorm((768,), eps=1e-12, elementwise_affine=True)\n",
            "              (dropout): Dropout(p=0.1, inplace=False)\n",
            "            )\n",
            "          )\n",
            "          (intermediate): BertIntermediate(\n",
            "            (dense): Linear(in_features=768, out_features=3072, bias=True)\n",
            "            (intermediate_act_fn): GELUActivation()\n",
            "          )\n",
            "          (output): BertOutput(\n",
            "            (dense): Linear(in_features=3072, out_features=768, bias=True)\n",
            "            (LayerNorm): LayerNorm((768,), eps=1e-12, elementwise_affine=True)\n",
            "            (dropout): Dropout(p=0.1, inplace=False)\n",
            "          )\n",
            "        )\n",
            "      )\n",
            "    )\n",
            "    (pooler): BertPooler(\n",
            "      (dense): Linear(in_features=768, out_features=768, bias=True)\n",
            "      (activation): Tanh()\n",
            "    )\n",
            "  )\n",
            "  (dropout): Dropout(p=0.1, inplace=False)\n",
            "  (classifier): Linear(in_features=768, out_features=4, bias=True)\n",
            ")\n",
            "\n",
            "Total trainable parameters: 31,518,724\n",
            "Note: Most parameters are in the BERT layers (embeddings, encoders).\n",
            "      The 'classifier' layer at the end is the fine-tuning head.\n",
            "\n"
          ]
        }
      ],
      "source": [
        "# Print the model structure - this will be quite long!\n",
        "print(model)\n",
        "\n",
        "# Calculate and print the total number of trainable parameters\n",
        "total_params = sum(p.numel() for p in model.parameters() if p.requires_grad)\n",
        "print(f\"\\nTotal trainable parameters: {total_params:,}\")\n",
        "print(\"Note: Most parameters are in the BERT layers (embeddings, encoders).\")\n",
        "print(\"      The 'classifier' layer at the end is the fine-tuning head.\\n\")"
      ]
    },
    {
      "cell_type": "code",
      "execution_count": null,
      "metadata": {
        "colab": {
          "base_uri": "https://localhost:8080/"
        },
        "id": "d-IKQWT7up7X",
        "outputId": "6bc8dda3-6fea-46dd-c9a0-a8ed30629d04"
      },
      "outputs": [
        {
          "output_type": "stream",
          "name": "stdout",
          "text": [
            "\n",
            "Epoch 1/15\n",
            "  Batch 20/63, Batch Loss: 1.2995\n",
            "  Batch 40/63, Batch Loss: 1.1274\n",
            "  Batch 60/63, Batch Loss: 0.9429\n",
            "Epoch 1 completed in 27.42 seconds.\n",
            "Average Training Loss: 1.1699\n",
            "\n",
            "Epoch 2/15\n",
            "  Batch 20/63, Batch Loss: 0.7889\n",
            "  Batch 40/63, Batch Loss: 0.5741\n",
            "  Batch 60/63, Batch Loss: 0.5452\n",
            "Epoch 2 completed in 27.09 seconds.\n",
            "Average Training Loss: 0.6067\n",
            "\n",
            "Epoch 3/15\n",
            "  Batch 20/63, Batch Loss: 0.3133\n",
            "  Batch 40/63, Batch Loss: 0.3815\n",
            "  Batch 60/63, Batch Loss: 0.4060\n",
            "Epoch 3 completed in 26.70 seconds.\n",
            "Average Training Loss: 0.3968\n",
            "\n",
            "Epoch 4/15\n",
            "  Batch 20/63, Batch Loss: 0.1585\n",
            "  Batch 40/63, Batch Loss: 0.6434\n",
            "  Batch 60/63, Batch Loss: 0.3717\n",
            "Epoch 4 completed in 26.57 seconds.\n",
            "Average Training Loss: 0.3198\n",
            "\n",
            "Epoch 5/15\n",
            "  Batch 20/63, Batch Loss: 0.2700\n",
            "  Batch 40/63, Batch Loss: 0.2267\n",
            "  Batch 60/63, Batch Loss: 0.1296\n",
            "Epoch 5 completed in 26.65 seconds.\n",
            "Average Training Loss: 0.2623\n",
            "\n",
            "Epoch 6/15\n",
            "  Batch 20/63, Batch Loss: 0.2243\n",
            "  Batch 40/63, Batch Loss: 0.1500\n",
            "  Batch 60/63, Batch Loss: 0.1190\n",
            "Epoch 6 completed in 26.71 seconds.\n",
            "Average Training Loss: 0.2160\n",
            "\n",
            "Epoch 7/15\n",
            "  Batch 20/63, Batch Loss: 0.0684\n",
            "  Batch 40/63, Batch Loss: 0.1979\n",
            "  Batch 60/63, Batch Loss: 0.2017\n",
            "Epoch 7 completed in 26.63 seconds.\n",
            "Average Training Loss: 0.1868\n",
            "\n",
            "Epoch 8/15\n",
            "  Batch 20/63, Batch Loss: 0.0712\n",
            "  Batch 40/63, Batch Loss: 0.0677\n",
            "  Batch 60/63, Batch Loss: 0.1599\n",
            "Epoch 8 completed in 26.61 seconds.\n",
            "Average Training Loss: 0.1535\n",
            "\n",
            "Epoch 9/15\n",
            "  Batch 20/63, Batch Loss: 0.1208\n",
            "  Batch 40/63, Batch Loss: 0.0356\n",
            "  Batch 60/63, Batch Loss: 0.0557\n",
            "Epoch 9 completed in 26.61 seconds.\n",
            "Average Training Loss: 0.1239\n",
            "\n",
            "Epoch 10/15\n",
            "  Batch 20/63, Batch Loss: 0.0653\n",
            "  Batch 40/63, Batch Loss: 0.0474\n",
            "  Batch 60/63, Batch Loss: 0.1552\n",
            "Epoch 10 completed in 26.62 seconds.\n",
            "Average Training Loss: 0.1040\n",
            "\n",
            "Epoch 11/15\n",
            "  Batch 20/63, Batch Loss: 0.0827\n",
            "  Batch 40/63, Batch Loss: 0.0244\n",
            "  Batch 60/63, Batch Loss: 0.1244\n",
            "Epoch 11 completed in 26.66 seconds.\n",
            "Average Training Loss: 0.0835\n",
            "\n",
            "Epoch 12/15\n",
            "  Batch 20/63, Batch Loss: 0.1584\n",
            "  Batch 40/63, Batch Loss: 0.0861\n",
            "  Batch 60/63, Batch Loss: 0.1344\n",
            "Epoch 12 completed in 26.66 seconds.\n",
            "Average Training Loss: 0.0731\n",
            "\n",
            "Epoch 13/15\n",
            "  Batch 20/63, Batch Loss: 0.0196\n",
            "  Batch 40/63, Batch Loss: 0.0805\n",
            "  Batch 60/63, Batch Loss: 0.0246\n",
            "Epoch 13 completed in 26.68 seconds.\n",
            "Average Training Loss: 0.0648\n",
            "\n",
            "Epoch 14/15\n",
            "  Batch 20/63, Batch Loss: 0.0191\n",
            "  Batch 40/63, Batch Loss: 0.0300\n",
            "  Batch 60/63, Batch Loss: 0.0180\n",
            "Epoch 14 completed in 26.70 seconds.\n",
            "Average Training Loss: 0.0468\n",
            "\n",
            "Epoch 15/15\n",
            "  Batch 20/63, Batch Loss: 0.0466\n",
            "  Batch 40/63, Batch Loss: 0.0326\n",
            "  Batch 60/63, Batch Loss: 0.1362\n",
            "Epoch 15 completed in 26.67 seconds.\n",
            "Average Training Loss: 0.0412\n",
            "\n",
            "--- Training Finished ---\n"
          ]
        }
      ],
      "source": [
        "model.train() # Set the model to training mode\n",
        "\n",
        "for epoch in range(EPOCHS):\n",
        "    epoch_start_time = time.time()\n",
        "    epoch_loss = 0\n",
        "    print(f\"\\nEpoch {epoch+1}/{EPOCHS}\")\n",
        "\n",
        "    # Iterate over batches in the training data loader\n",
        "    for i, batch in enumerate(train_dataloader):\n",
        "        # Move batch data to the configured device\n",
        "        batch = {k: v.to(device) for k, v in batch.items()}\n",
        "\n",
        "        # 1. Zero gradients\n",
        "        optimizer.zero_grad()\n",
        "\n",
        "        # 2. Forward pass: Pass the batch directly to the model.\n",
        "        # Since 'labels' are in the batch, the model calculates the loss internally.\n",
        "        outputs = model(**batch)\n",
        "\n",
        "        # 3. Get the loss from the model output\n",
        "        loss = outputs.loss\n",
        "\n",
        "        # 4. Backward pass: Compute gradients\n",
        "        loss.backward()\n",
        "\n",
        "        # 5. Optimizer step: Update model weights\n",
        "        optimizer.step()\n",
        "\n",
        "        # Accumulate the loss\n",
        "        epoch_loss += loss.item()\n",
        "\n",
        "        # Print progress periodically\n",
        "        if (i + 1) % 20 == 0: # Print more frequently if needed\n",
        "             print(f\"  Batch {i+1}/{len(train_dataloader)}, Batch Loss: {loss.item():.4f}\")\n",
        "\n",
        "    # Calculate and print average loss for the epoch\n",
        "    epoch_end_time = time.time()\n",
        "    avg_epoch_loss = epoch_loss / len(train_dataloader)\n",
        "    print(f\"Epoch {epoch+1} completed in {epoch_end_time - epoch_start_time:.2f} seconds.\")\n",
        "    print(f\"Average Training Loss: {avg_epoch_loss:.4f}\")\n",
        "\n",
        "print(\"\\n--- Training Finished ---\")"
      ]
    },
    {
      "cell_type": "code",
      "execution_count": null,
      "metadata": {
        "id": "09FVA1_3up7X",
        "colab": {
          "base_uri": "https://localhost:8080/",
          "height": 911
        },
        "outputId": "f6afd0e5-8354-4957-d115-58c2e85fbffc"
      },
      "outputs": [
        {
          "output_type": "stream",
          "name": "stdout",
          "text": [
            "\n",
            "--- Evaluation Results ---\n",
            "Test Accuracy: 0.9100\n",
            "\n",
            "Classification Report:\n",
            "              precision    recall  f1-score   support\n",
            "\n",
            "       World     0.9818    0.8852    0.9310        61\n",
            "      Sports     0.9811    0.9811    0.9811        53\n",
            "    Business     0.7500    0.8276    0.7869        29\n",
            "    Sci/Tech     0.8667    0.9123    0.8889        57\n",
            "\n",
            "    accuracy                         0.9100       200\n",
            "   macro avg     0.8949    0.9016    0.8970       200\n",
            "weighted avg     0.9152    0.9100    0.9114       200\n",
            "\n",
            "\n",
            "Confusion Matrix:\n"
          ]
        },
        {
          "output_type": "display_data",
          "data": {
            "text/plain": [
              "<Figure size 800x600 with 2 Axes>"
            ],
            "image/png": "[encoded data removed]"
          },
          "metadata": {}
        },
        {
          "output_type": "stream",
          "name": "stdout",
          "text": [
            "\n",
            "--- Evaluation Finished ---\n"
          ]
        }
      ],
      "source": [
        "model.eval() # Set the model to evaluation mode\n",
        "\n",
        "all_preds = []\n",
        "all_labels = []\n",
        "\n",
        "# Disable gradient calculations\n",
        "with torch.no_grad():\n",
        "    # Iterate over batches in the test data loader\n",
        "    for batch in test_dataloader:\n",
        "        # Store true labels (on CPU)\n",
        "        batch_labels = batch['labels'].cpu().numpy()\n",
        "        all_labels.extend(batch_labels)\n",
        "\n",
        "        # Move batch data to the device (input_ids, attention_mask)\n",
        "        batch_inputs = {k: v.to(device) for k, v in batch.items() if k != 'labels'}\n",
        "\n",
        "        # Forward pass: Get model outputs (logits)\n",
        "        outputs = model(**batch_inputs)\n",
        "        logits = outputs.logits\n",
        "\n",
        "        # Get predictions by finding the class with the highest logit score\n",
        "        predictions = torch.argmax(logits, dim=1)\n",
        "\n",
        "        # Move predictions to CPU and store them\n",
        "        all_preds.extend(predictions.cpu().numpy())\n",
        "\n",
        "\n",
        "# Calculate metrics using scikit-learn\n",
        "accuracy = accuracy_score(all_labels, all_preds)\n",
        "report = classification_report(all_labels, all_preds, target_names=label_map.values(), digits=4)\n",
        "conf_matrix = confusion_matrix(all_labels, all_preds)\n",
        "\n",
        "print(\"\\n--- Evaluation Results ---\")\n",
        "print(f\"Test Accuracy: {accuracy:.4f}\")\n",
        "print(\"\\nClassification Report:\")\n",
        "print(report)\n",
        "\n",
        "# Plot Confusion Matrix\n",
        "print(\"\\nConfusion Matrix:\")\n",
        "plt.figure(figsize=(8, 6))\n",
        "sns.heatmap(conf_matrix, annot=True, fmt='d', cmap='Blues',\n",
        "            xticklabels=label_map.values(), yticklabels=label_map.values())\n",
        "plt.xlabel('Predicted Label')\n",
        "plt.ylabel('True Label')\n",
        "plt.title('Confusion Matrix (BERT)')\n",
        "plt.show()\n",
        "\n",
        "print(\"\\n--- Evaluation Finished ---\")"
      ]
    },
    {
      "cell_type": "code",
      "execution_count": null,
      "metadata": {
        "id": "WYchyBLiup7Y",
        "colab": {
          "base_uri": "https://localhost:8080/"
        },
        "outputId": "09ce91cb-17ba-4533-adaa-de593437a1e7"
      },
      "outputs": [
        {
          "output_type": "stream",
          "name": "stdout",
          "text": [
            "Total execution time: 410.38 seconds (6.84 minutes).\n",
            "(Note: Fine-tuning BERT takes significantly longer than the simple model.)\n",
            "\n"
          ]
        }
      ],
      "source": [
        "end_time = time.time()\n",
        "total_time = end_time - start_time\n",
        "print(f\"Total execution time: {total_time:.2f} seconds ({total_time/60:.2f} minutes).\")\n",
        "print(\"(Note: Fine-tuning BERT takes significantly longer than the simple model.)\\n\")"
      ]
    },
    {
      "cell_type": "code",
      "execution_count": null,
      "metadata": {
        "id": "GnIg7Ogtup7Y",
        "colab": {
          "base_uri": "https://localhost:8080/"
        },
        "outputId": "e0071fc1-0f69-4bfe-8f8e-dcf6db097bc2"
      },
      "outputs": [
        {
          "output_type": "stream",
          "name": "stdout",
          "text": [
            "Input Sentence: 'The latest space mission successfully launched yesterday evening.'\n",
            "Predicted class index: 3\n",
            "Predicted label: Sci/Tech\n",
            "\n",
            "--- End of Notebook ---\n"
          ]
        }
      ],
      "source": [
        "# Define a new sentence\n",
        "text = \"The latest space mission successfully launched yesterday evening.\"\n",
        "print(f\"Input Sentence: '{text}'\")\n",
        "\n",
        "model.eval() # Ensure model is in evaluation mode\n",
        "with torch.no_grad(): # Disable gradients\n",
        "    # 1. Tokenize the input text\n",
        "    inputs = tokenizer(text, return_tensors=\"pt\", padding='max_length', truncation=True, max_length=MAX_LENGTH)\n",
        "\n",
        "    # 2. Move tokenized inputs to the correct device\n",
        "    inputs = {k: v.to(device) for k, v in inputs.items()}\n",
        "\n",
        "    # 3. Get model output (logits)\n",
        "    # Pass inputs directly using dictionary unpacking **inputs\n",
        "    outputs = model(**inputs)\n",
        "    logits = outputs.logits\n",
        "\n",
        "    # 4. Get the predicted class index\n",
        "    prediction_idx = torch.argmax(logits, dim=1).item()\n",
        "\n",
        "    # 5. Map the predicted index back to the readable label name\n",
        "    predicted_label = label_map.get(prediction_idx, 'Unknown')\n",
        "\n",
        "    print(f\"Predicted class index: {prediction_idx}\")\n",
        "    print(f\"Predicted label: {predicted_label}\")\n",
        "print(\"\\n--- End of Notebook ---\")"
      ]
    },
    {
      "cell_type": "code",
      "execution_count": null,
      "metadata": {
        "id": "PfSQcURTdfnv"
      },
      "outputs": [],
      "source": []
    }
  ],
  "metadata": {
    "accelerator": "GPU",
    "colab": {
      "gpuType": "T4",
      "provenance": []
    },
    "kernelspec": {
      "display_name": "Python 3",
      "name": "python3"
    },
    "language_info": {
      "codemirror_mode": {
        "name": "ipython",
        "version": 3
      },
      "file_extension": ".py",
      "mimetype": "text/x-python",
      "name": "python",
      "nbconvert_exporter": "python",
      "pygments_lexer": "ipython3",
      "version": "3.9.12"
    },
    "widgets": {
      "application/vnd.jupyter.widget-state+json": {
        "3f5894824d4848a8b09aedb4d57fa3b6": {
          "model_module": "@jupyter-widgets/controls",
          "model_name": "HBoxModel",
          "model_module_version": "1.5.0",
          "state": {
            "_dom_classes": [],
            "_model_module": "@jupyter-widgets/controls",
            "_model_module_version": "1.5.0",
            "_model_name": "HBoxModel",
            "_view_count": null,
            "_view_module": "@jupyter-widgets/controls",
            "_view_module_version": "1.5.0",
            "_view_name": "HBoxView",
            "box_style": "",
            "children": [
              "IPY_MODEL_3b05806f4ba7410b882e1c29b8c9f5cb",
              "IPY_MODEL_edc2ec6e45cd488ebba368a7d9ae813e",
              "IPY_MODEL_e39f19bcfbff41f380a8490faec8bc47"
            ],
            "layout": "IPY_MODEL_904a1b463938493ab2d51f971520cd10"
          }
        },
        "3b05806f4ba7410b882e1c29b8c9f5cb": {
          "model_module": "@jupyter-widgets/controls",
          "model_name": "HTMLModel",
          "model_module_version": "1.5.0",
          "state": {
            "_dom_classes": [],
            "_model_module": "@jupyter-widgets/controls",
            "_model_module_version": "1.5.0",
            "_model_name": "HTMLModel",
            "_view_count": null,
            "_view_module": "@jupyter-widgets/controls",
            "_view_module_version": "1.5.0",
            "_view_name": "HTMLView",
            "description": "",
            "description_tooltip": null,
            "layout": "IPY_MODEL_8f76017c53ff45fc90b395c3669637f9",
            "placeholder": "​",
            "style": "IPY_MODEL_d1e78899006847f5b800789f4cfc8654",
            "value": "Map: 100%"
          }
        },
        "edc2ec6e45cd488ebba368a7d9ae813e": {
          "model_module": "@jupyter-widgets/controls",
          "model_name": "FloatProgressModel",
          "model_module_version": "1.5.0",
          "state": {
            "_dom_classes": [],
            "_model_module": "@jupyter-widgets/controls",
            "_model_module_version": "1.5.0",
            "_model_name": "FloatProgressModel",
            "_view_count": null,
            "_view_module": "@jupyter-widgets/controls",
            "_view_module_version": "1.5.0",
            "_view_name": "ProgressView",
            "bar_style": "success",
            "description": "",
            "description_tooltip": null,
            "layout": "IPY_MODEL_7470ae96baec4578a0c3a40d7ac03734",
            "max": 2000,
            "min": 0,
            "orientation": "horizontal",
            "style": "IPY_MODEL_f7b817e412fc43b0bdf43fe942013857",
            "value": 2000
          }
        },
        "e39f19bcfbff41f380a8490faec8bc47": {
          "model_module": "@jupyter-widgets/controls",
          "model_name": "HTMLModel",
          "model_module_version": "1.5.0",
          "state": {
            "_dom_classes": [],
            "_model_module": "@jupyter-widgets/controls",
            "_model_module_version": "1.5.0",
            "_model_name": "HTMLModel",
            "_view_count": null,
            "_view_module": "@jupyter-widgets/controls",
            "_view_module_version": "1.5.0",
            "_view_name": "HTMLView",
            "description": "",
            "description_tooltip": null,
            "layout": "IPY_MODEL_321bee7c664e4596b9e96e728787b48c",
            "placeholder": "​",
            "style": "IPY_MODEL_86daa690dc84416e9efcbaac1713649c",
            "value": " 2000/2000 [00:00&lt;00:00, 2363.37 examples/s]"
          }
        },
        "904a1b463938493ab2d51f971520cd10": {
          "model_module": "@jupyter-widgets/base",
          "model_name": "LayoutModel",
          "model_module_version": "1.2.0",
          "state": {
            "_model_module": "@jupyter-widgets/base",
            "_model_module_version": "1.2.0",
            "_model_name": "LayoutModel",
            "_view_count": null,
            "_view_module": "@jupyter-widgets/base",
            "_view_module_version": "1.2.0",
            "_view_name": "LayoutView",
            "align_content": null,
            "align_items": null,
            "align_self": null,
            "border": null,
            "bottom": null,
            "display": null,
            "flex": null,
            "flex_flow": null,
            "grid_area": null,
            "grid_auto_columns": null,
            "grid_auto_flow": null,
            "grid_auto_rows": null,
            "grid_column": null,
            "grid_gap": null,
            "grid_row": null,
            "grid_template_areas": null,
            "grid_template_columns": null,
            "grid_template_rows": null,
            "height": null,
            "justify_content": null,
            "justify_items": null,
            "left": null,
            "margin": null,
            "max_height": null,
            "max_width": null,
            "min_height": null,
            "min_width": null,
            "object_fit": null,
            "object_position": null,
            "order": null,
            "overflow": null,
            "overflow_x": null,
            "overflow_y": null,
            "padding": null,
            "right": null,
            "top": null,
            "visibility": null,
            "width": null
          }
        },
        "8f76017c53ff45fc90b395c3669637f9": {
          "model_module": "@jupyter-widgets/base",
          "model_name": "LayoutModel",
          "model_module_version": "1.2.0",
          "state": {
            "_model_module": "@jupyter-widgets/base",
            "_model_module_version": "1.2.0",
            "_model_name": "LayoutModel",
            "_view_count": null,
            "_view_module": "@jupyter-widgets/base",
            "_view_module_version": "1.2.0",
            "_view_name": "LayoutView",
            "align_content": null,
            "align_items": null,
            "align_self": null,
            "border": null,
            "bottom": null,
            "display": null,
            "flex": null,
            "flex_flow": null,
            "grid_area": null,
            "grid_auto_columns": null,
            "grid_auto_flow": null,
            "grid_auto_rows": null,
            "grid_column": null,
            "grid_gap": null,
            "grid_row": null,
            "grid_template_areas": null,
            "grid_template_columns": null,
            "grid_template_rows": null,
            "height": null,
            "justify_content": null,
            "justify_items": null,
            "left": null,
            "margin": null,
            "max_height": null,
            "max_width": null,
            "min_height": null,
            "min_width": null,
            "object_fit": null,
            "object_position": null,
            "order": null,
            "overflow": null,
            "overflow_x": null,
            "overflow_y": null,
            "padding": null,
            "right": null,
            "top": null,
            "visibility": null,
            "width": null
          }
        },
        "d1e78899006847f5b800789f4cfc8654": {
          "model_module": "@jupyter-widgets/controls",
          "model_name": "DescriptionStyleModel",
          "model_module_version": "1.5.0",
          "state": {
            "_model_module": "@jupyter-widgets/controls",
            "_model_module_version": "1.5.0",
            "_model_name": "DescriptionStyleModel",
            "_view_count": null,
            "_view_module": "@jupyter-widgets/base",
            "_view_module_version": "1.2.0",
            "_view_name": "StyleView",
            "description_width": ""
          }
        },
        "7470ae96baec4578a0c3a40d7ac03734": {
          "model_module": "@jupyter-widgets/base",
          "model_name": "LayoutModel",
          "model_module_version": "1.2.0",
          "state": {
            "_model_module": "@jupyter-widgets/base",
            "_model_module_version": "1.2.0",
            "_model_name": "LayoutModel",
            "_view_count": null,
            "_view_module": "@jupyter-widgets/base",
            "_view_module_version": "1.2.0",
            "_view_name": "LayoutView",
            "align_content": null,
            "align_items": null,
            "align_self": null,
            "border": null,
            "bottom": null,
            "display": null,
            "flex": null,
            "flex_flow": null,
            "grid_area": null,
            "grid_auto_columns": null,
            "grid_auto_flow": null,
            "grid_auto_rows": null,
            "grid_column": null,
            "grid_gap": null,
            "grid_row": null,
            "grid_template_areas": null,
            "grid_template_columns": null,
            "grid_template_rows": null,
            "height": null,
            "justify_content": null,
            "justify_items": null,
            "left": null,
            "margin": null,
            "max_height": null,
            "max_width": null,
            "min_height": null,
            "min_width": null,
            "object_fit": null,
            "object_position": null,
            "order": null,
            "overflow": null,
            "overflow_x": null,
            "overflow_y": null,
            "padding": null,
            "right": null,
            "top": null,
            "visibility": null,
            "width": null
          }
        },
        "f7b817e412fc43b0bdf43fe942013857": {
          "model_module": "@jupyter-widgets/controls",
          "model_name": "ProgressStyleModel",
          "model_module_version": "1.5.0",
          "state": {
            "_model_module": "@jupyter-widgets/controls",
            "_model_module_version": "1.5.0",
            "_model_name": "ProgressStyleModel",
            "_view_count": null,
            "_view_module": "@jupyter-widgets/base",
            "_view_module_version": "1.2.0",
            "_view_name": "StyleView",
            "bar_color": null,
            "description_width": ""
          }
        },
        "321bee7c664e4596b9e96e728787b48c": {
          "model_module": "@jupyter-widgets/base",
          "model_name": "LayoutModel",
          "model_module_version": "1.2.0",
          "state": {
            "_model_module": "@jupyter-widgets/base",
            "_model_module_version": "1.2.0",
            "_model_name": "LayoutModel",
            "_view_count": null,
            "_view_module": "@jupyter-widgets/base",
            "_view_module_version": "1.2.0",
            "_view_name": "LayoutView",
            "align_content": null,
            "align_items": null,
            "align_self": null,
            "border": null,
            "bottom": null,
            "display": null,
            "flex": null,
            "flex_flow": null,
            "grid_area": null,
            "grid_auto_columns": null,
            "grid_auto_flow": null,
            "grid_auto_rows": null,
            "grid_column": null,
            "grid_gap": null,
            "grid_row": null,
            "grid_template_areas": null,
            "grid_template_columns": null,
            "grid_template_rows": null,
            "height": null,
            "justify_content": null,
            "justify_items": null,
            "left": null,
            "margin": null,
            "max_height": null,
            "max_width": null,
            "min_height": null,
            "min_width": null,
            "object_fit": null,
            "object_position": null,
            "order": null,
            "overflow": null,
            "overflow_x": null,
            "overflow_y": null,
            "padding": null,
            "right": null,
            "top": null,
            "visibility": null,
            "width": null
          }
        },
        "86daa690dc84416e9efcbaac1713649c": {
          "model_module": "@jupyter-widgets/controls",
          "model_name": "DescriptionStyleModel",
          "model_module_version": "1.5.0",
          "state": {
            "_model_module": "@jupyter-widgets/controls",
            "_model_module_version": "1.5.0",
            "_model_name": "DescriptionStyleModel",
            "_view_count": null,
            "_view_module": "@jupyter-widgets/base",
            "_view_module_version": "1.2.0",
            "_view_name": "StyleView",
            "description_width": ""
          }
        },
        "71fa475f1dbf4e3b8754bbbf0aaee050": {
          "model_module": "@jupyter-widgets/controls",
          "model_name": "HBoxModel",
          "model_module_version": "1.5.0",
          "state": {
            "_dom_classes": [],
            "_model_module": "@jupyter-widgets/controls",
            "_model_module_version": "1.5.0",
            "_model_name": "HBoxModel",
            "_view_count": null,
            "_view_module": "@jupyter-widgets/controls",
            "_view_module_version": "1.5.0",
            "_view_name": "HBoxView",
            "box_style": "",
            "children": [
              "IPY_MODEL_6300c0a3f46c4eb396334e7f4dfec1bc",
              "IPY_MODEL_290b145c00964d8da155580cbac63b15",
              "IPY_MODEL_f98f878eaef34f42a4bdcadc34687d10"
            ],
            "layout": "IPY_MODEL_90f4832191fe40ad908ed7c3c6c6e725"
          }
        },
        "6300c0a3f46c4eb396334e7f4dfec1bc": {
          "model_module": "@jupyter-widgets/controls",
          "model_name": "HTMLModel",
          "model_module_version": "1.5.0",
          "state": {
            "_dom_classes": [],
            "_model_module": "@jupyter-widgets/controls",
            "_model_module_version": "1.5.0",
            "_model_name": "HTMLModel",
            "_view_count": null,
            "_view_module": "@jupyter-widgets/controls",
            "_view_module_version": "1.5.0",
            "_view_name": "HTMLView",
            "description": "",
            "description_tooltip": null,
            "layout": "IPY_MODEL_da989d4a6888421887e05cc26ccff549",
            "placeholder": "​",
            "style": "IPY_MODEL_fa618c781abe495e8a422875b58440ef",
            "value": "Map: 100%"
          }
        },
        "290b145c00964d8da155580cbac63b15": {
          "model_module": "@jupyter-widgets/controls",
          "model_name": "FloatProgressModel",
          "model_module_version": "1.5.0",
          "state": {
            "_dom_classes": [],
            "_model_module": "@jupyter-widgets/controls",
            "_model_module_version": "1.5.0",
            "_model_name": "FloatProgressModel",
            "_view_count": null,
            "_view_module": "@jupyter-widgets/controls",
            "_view_module_version": "1.5.0",
            "_view_name": "ProgressView",
            "bar_style": "success",
            "description": "",
            "description_tooltip": null,
            "layout": "IPY_MODEL_7f28d94b9550427da02fd7b299eb58ec",
            "max": 200,
            "min": 0,
            "orientation": "horizontal",
            "style": "IPY_MODEL_7802e1e7576245aa8e9832db6a0c31c4",
            "value": 200
          }
        },
        "f98f878eaef34f42a4bdcadc34687d10": {
          "model_module": "@jupyter-widgets/controls",
          "model_name": "HTMLModel",
          "model_module_version": "1.5.0",
          "state": {
            "_dom_classes": [],
            "_model_module": "@jupyter-widgets/controls",
            "_model_module_version": "1.5.0",
            "_model_name": "HTMLModel",
            "_view_count": null,
            "_view_module": "@jupyter-widgets/controls",
            "_view_module_version": "1.5.0",
            "_view_name": "HTMLView",
            "description": "",
            "description_tooltip": null,
            "layout": "IPY_MODEL_385b495200fc43c8824de8af16f6f2a3",
            "placeholder": "​",
            "style": "IPY_MODEL_6a03520984cd48cfba9dae51cd93fad9",
            "value": " 200/200 [00:00&lt;00:00, 1338.22 examples/s]"
          }
        },
        "90f4832191fe40ad908ed7c3c6c6e725": {
          "model_module": "@jupyter-widgets/base",
          "model_name": "LayoutModel",
          "model_module_version": "1.2.0",
          "state": {
            "_model_module": "@jupyter-widgets/base",
            "_model_module_version": "1.2.0",
            "_model_name": "LayoutModel",
            "_view_count": null,
            "_view_module": "@jupyter-widgets/base",
            "_view_module_version": "1.2.0",
            "_view_name": "LayoutView",
            "align_content": null,
            "align_items": null,
            "align_self": null,
            "border": null,
            "bottom": null,
            "display": null,
            "flex": null,
            "flex_flow": null,
            "grid_area": null,
            "grid_auto_columns": null,
            "grid_auto_flow": null,
            "grid_auto_rows": null,
            "grid_column": null,
            "grid_gap": null,
            "grid_row": null,
            "grid_template_areas": null,
            "grid_template_columns": null,
            "grid_template_rows": null,
            "height": null,
            "justify_content": null,
            "justify_items": null,
            "left": null,
            "margin": null,
            "max_height": null,
            "max_width": null,
            "min_height": null,
            "min_width": null,
            "object_fit": null,
            "object_position": null,
            "order": null,
            "overflow": null,
            "overflow_x": null,
            "overflow_y": null,
            "padding": null,
            "right": null,
            "top": null,
            "visibility": null,
            "width": null
          }
        },
        "da989d4a6888421887e05cc26ccff549": {
          "model_module": "@jupyter-widgets/base",
          "model_name": "LayoutModel",
          "model_module_version": "1.2.0",
          "state": {
            "_model_module": "@jupyter-widgets/base",
            "_model_module_version": "1.2.0",
            "_model_name": "LayoutModel",
            "_view_count": null,
            "_view_module": "@jupyter-widgets/base",
            "_view_module_version": "1.2.0",
            "_view_name": "LayoutView",
            "align_content": null,
            "align_items": null,
            "align_self": null,
            "border": null,
            "bottom": null,
            "display": null,
            "flex": null,
            "flex_flow": null,
            "grid_area": null,
            "grid_auto_columns": null,
            "grid_auto_flow": null,
            "grid_auto_rows": null,
            "grid_column": null,
            "grid_gap": null,
            "grid_row": null,
            "grid_template_areas": null,
            "grid_template_columns": null,
            "grid_template_rows": null,
            "height": null,
            "justify_content": null,
            "justify_items": null,
            "left": null,
            "margin": null,
            "max_height": null,
            "max_width": null,
            "min_height": null,
            "min_width": null,
            "object_fit": null,
            "object_position": null,
            "order": null,
            "overflow": null,
            "overflow_x": null,
            "overflow_y": null,
            "padding": null,
            "right": null,
            "top": null,
            "visibility": null,
            "width": null
          }
        },
        "fa618c781abe495e8a422875b58440ef": {
          "model_module": "@jupyter-widgets/controls",
          "model_name": "DescriptionStyleModel",
          "model_module_version": "1.5.0",
          "state": {
            "_model_module": "@jupyter-widgets/controls",
            "_model_module_version": "1.5.0",
            "_model_name": "DescriptionStyleModel",
            "_view_count": null,
            "_view_module": "@jupyter-widgets/base",
            "_view_module_version": "1.2.0",
            "_view_name": "StyleView",
            "description_width": ""
          }
        },
        "7f28d94b9550427da02fd7b299eb58ec": {
          "model_module": "@jupyter-widgets/base",
          "model_name": "LayoutModel",
          "model_module_version": "1.2.0",
          "state": {
            "_model_module": "@jupyter-widgets/base",
            "_model_module_version": "1.2.0",
            "_model_name": "LayoutModel",
            "_view_count": null,
            "_view_module": "@jupyter-widgets/base",
            "_view_module_version": "1.2.0",
            "_view_name": "LayoutView",
            "align_content": null,
            "align_items": null,
            "align_self": null,
            "border": null,
            "bottom": null,
            "display": null,
            "flex": null,
            "flex_flow": null,
            "grid_area": null,
            "grid_auto_columns": null,
            "grid_auto_flow": null,
            "grid_auto_rows": null,
            "grid_column": null,
            "grid_gap": null,
            "grid_row": null,
            "grid_template_areas": null,
            "grid_template_columns": null,
            "grid_template_rows": null,
            "height": null,
            "justify_content": null,
            "justify_items": null,
            "left": null,
            "margin": null,
            "max_height": null,
            "max_width": null,
            "min_height": null,
            "min_width": null,
            "object_fit": null,
            "object_position": null,
            "order": null,
            "overflow": null,
            "overflow_x": null,
            "overflow_y": null,
            "padding": null,
            "right": null,
            "top": null,
            "visibility": null,
            "width": null
          }
        },
        "7802e1e7576245aa8e9832db6a0c31c4": {
          "model_module": "@jupyter-widgets/controls",
          "model_name": "ProgressStyleModel",
          "model_module_version": "1.5.0",
          "state": {
            "_model_module": "@jupyter-widgets/controls",
            "_model_module_version": "1.5.0",
            "_model_name": "ProgressStyleModel",
            "_view_count": null,
            "_view_module": "@jupyter-widgets/base",
            "_view_module_version": "1.2.0",
            "_view_name": "StyleView",
            "bar_color": null,
            "description_width": ""
          }
        },
        "385b495200fc43c8824de8af16f6f2a3": {
          "model_module": "@jupyter-widgets/base",
          "model_name": "LayoutModel",
          "model_module_version": "1.2.0",
          "state": {
            "_model_module": "@jupyter-widgets/base",
            "_model_module_version": "1.2.0",
            "_model_name": "LayoutModel",
            "_view_count": null,
            "_view_module": "@jupyter-widgets/base",
            "_view_module_version": "1.2.0",
            "_view_name": "LayoutView",
            "align_content": null,
            "align_items": null,
            "align_self": null,
            "border": null,
            "bottom": null,
            "display": null,
            "flex": null,
            "flex_flow": null,
            "grid_area": null,
            "grid_auto_columns": null,
            "grid_auto_flow": null,
            "grid_auto_rows": null,
            "grid_column": null,
            "grid_gap": null,
            "grid_row": null,
            "grid_template_areas": null,
            "grid_template_columns": null,
            "grid_template_rows": null,
            "height": null,
            "justify_content": null,
            "justify_items": null,
            "left": null,
            "margin": null,
            "max_height": null,
            "max_width": null,
            "min_height": null,
            "min_width": null,
            "object_fit": null,
            "object_position": null,
            "order": null,
            "overflow": null,
            "overflow_x": null,
            "overflow_y": null,
            "padding": null,
            "right": null,
            "top": null,
            "visibility": null,
            "width": null
          }
        },
        "6a03520984cd48cfba9dae51cd93fad9": {
          "model_module": "@jupyter-widgets/controls",
          "model_name": "DescriptionStyleModel",
          "model_module_version": "1.5.0",
          "state": {
            "_model_module": "@jupyter-widgets/controls",
            "_model_module_version": "1.5.0",
            "_model_name": "DescriptionStyleModel",
            "_view_count": null,
            "_view_module": "@jupyter-widgets/base",
            "_view_module_version": "1.2.0",
            "_view_name": "StyleView",
            "description_width": ""
          }
        }
      }
    }
  },
  "nbformat": 4,
  "nbformat_minor": 0
}