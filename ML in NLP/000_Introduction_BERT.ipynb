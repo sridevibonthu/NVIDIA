{
 "cells": [
  {
   "cell_type": "markdown",
   "metadata": {},
   "source": [
    "<a href=\"https://www.nvidia.com/dli\"> <img src=\"images/DLI_Header.png\" alt=\"Header\" style=\"width: 400px;\"/> </a>"
   ]
  },
  {
   "cell_type": "markdown",
   "metadata": {},
   "source": [
    "# Building Transformer-Based Natural Language Processing Applications\n",
    "### Part 2: Self-Supervision, BERT, and Beyond\n",
    "\n",
    "The goal of this lab is to build two example NLP application tasks, *text classification* and *named entity recognition (NER)*, by transferring knowledge from large, high-performing pre-trained transformer-based language models.  \n",
    "<br><br><br>\n",
    "<img src=\"images/bert_pretrain_workflow.png\" width=800>\n"
   ]
  },
  {
   "cell_type": "markdown",
   "metadata": {},
   "source": [
    "## Table of Contents\n",
    "\n",
    "1. [Explore the Data](010_ExploreData.ipynb)<br>\n",
    "    For the two class projects, you'll use datasets drawn from the [NCBI-disease corpus](https://www.ncbi.nlm.nih.gov/CBBresearch/Dogan/DISEASE/), which consists of 793 annotated PubMed abstracts. You'll explore the details of these datasets, to gain insight into how you can adapt _your own datasets_ to these types of applications.<br>\n",
    "    You'll view and explore:\n",
    "    - The Corpus Annotated Data\n",
    "    - The Text Classification Dataset\n",
    "    - The NER Dataset\n",
    "<br><br>\n",
    "1. [NLP Projects with NeMo](020_ExploreNeMo.ipynb)<br>\n",
    "    We'll use the [NVIDIA NeMo open-source toolkit](https://developer.nvidia.com/nvidia-nemo) with a PyTorch backend as our framework, because NeMo's neural module abstraction makes it easy to experiment with different models.  You'll learn how to set up your model for training and inference with NeMo.\n",
    "    You'll learn how to:\n",
    "    - Create Neural Modules\n",
    "    - Create a Neural Graph\n",
    "    - Start an Action\n",
    "<br><br>\n",
    "1. [Build a 3-Class Text Classifier](030_TextClassification.ipynb)<br>\n",
    "    You'll learn how to:\n",
    "    - Prepare the Data\n",
    "    - Select a Pretrained BERT model\n",
    "    - Fine-tune a Text Classifier\n",
    "    - Visualize the Model Accuracy\n",
    "    - Test the Model Using Inference\n",
    "<br><br>\n",
    "1. [Build a Named Entity Recognizer](040_NamedEntityRecognition.ipynb)<br>\n",
    "    You'll learn how to:\n",
    "    - Fine-tune a Named Entity Recognizer Model\n",
    "    - Apply a Domain-Specific Model Checkpoint\n",
    "    - Test the NER Model using Inference\n",
    "<br><br>"
   ]
  },
  {
   "cell_type": "markdown",
   "metadata": {},
   "source": [
    "## Supplemental Material\n",
    "- [Retail Case Studies](case_studies/Retail.ipynb)\n",
    "- [Healthcare Case Studies](case_studies/Healthcare.ipynb)\n",
    "<br><br>"
   ]
  },
  {
   "cell_type": "markdown",
   "metadata": {},
   "source": [
    "## JupyterLab\n",
    "For this hands-on lab, we use [JupyterLab](https://jupyterlab.readthedocs.io/en/stable/) to manage our environment.  The [JupyterLab Interface](https://jupyterlab.readthedocs.io/en/stable/user/interface.html) is a dashboard that provides access to interactive iPython notebooks, as well as the folder structure of our environment and a terminal window into the Ubuntu operating system. The first view you'll see includes a **menu bar** at the top, a **file browser** in the **left sidebar**, and a **main work area** that is initially open to the \"Launcher\" page. \n",
    "\n",
    "<img src=\"images/jl_launcher.png\">\n",
    "\n",
    "The file browser can be navigated just like any other file explorer. A double click on any of the items will open a new tab with its content.\n",
    "\n",
    "The main work area includes tabbed views of open files that can be closed, moved, and edited as needed. \n",
    "\n",
    "The notebooks, including this one, consist of a series of content and code **cells**.  To execute code in a code cell, press `Shift+Enter` or the \"Run\" button in the menu bar above, while a cell is highlighted. Sometimes, a content cell will get switched to editing mode. Pressing `Shift+Enter` will switch it back to a readable form.\n",
    "\n",
    "Try executing the simple print statement in the cell below."
   ]
  },
  {
   "cell_type": "code",
   "execution_count": null,
   "metadata": {},
   "outputs": [],
   "source": [
    "# Highlight this cell and click [Shift+Enter] to execute\n",
    "print('This is just a simple print statement')"
   ]
  },
  {
   "cell_type": "markdown",
   "metadata": {},
   "source": [
    "<a href=\"https://www.nvidia.com/dli\"> <img src=\"images/DLI_Header.png\" alt=\"Header\" style=\"width: 400px;\"/> </a>"
   ]
  }
 ],
 "metadata": {
  "kernelspec": {
   "display_name": "Python 3",
   "language": "python",
   "name": "python3"
  },
  "language_info": {
   "codemirror_mode": {
    "name": "ipython",
    "version": 3
   },
   "file_extension": ".py",
   "mimetype": "text/x-python",
   "name": "python",
   "nbconvert_exporter": "python",
   "pygments_lexer": "ipython3",
   "version": "3.6.9"
  }
 },
 "nbformat": 4,
 "nbformat_minor": 4
}