{
 "cells": [
  {
   "cell_type": "markdown",
   "metadata": {},
   "source": [
    "<a href=\"https://www.nvidia.com/dli\"> <img src=\"images/DLI_Header.png\" alt=\"Header\" style=\"width: 400px;\"/> </a>"
   ]
  },
  {
   "cell_type": "markdown",
   "metadata": {},
   "source": [
    "# 1.0 How the Transformer Architecture Changed NMT\n",
    "In this notebook, we'll take a big-picture look at the Transformer architecture and model and its impact on NMT."
   ]
  },
  {
   "cell_type": "markdown",
   "metadata": {},
   "source": [
    "**[1.1 Neural Machine Translation (NMT)](#1.1-Neural-Machine-Translation-(NMT))<br>**\n",
    "**[1.2 Transformer Architecture Overview](#1.2-Transformer-Architecture-Overview)<br>**\n",
    "**[1.3 What is Attention?](#1.3-What-is-Attention?)<br>**\n",
    "**[1.4 Transformer Model Overview](#1.4-Transformer-Model-Overview)<br>**"
   ]
  },
  {
   "cell_type": "markdown",
   "metadata": {},
   "source": [
    "# 1.1 Neural Machine Translation (NMT)"
   ]
  },
  {
   "cell_type": "markdown",
   "metadata": {},
   "source": [
    "NMT is an end-to-end learning approach for automated translation of languages. It has the potential to overcome many of the weaknesses of conventional phrase-based statistical machine translation systems. Machine translation has achieved great success in the last few years, however it remains a challenging task.\n",
    "\n",
    "Let's look at the recent history of NMT and language understanding models."
   ]
  },
  {
   "cell_type": "markdown",
   "metadata": {},
   "source": [
    "<center><img src=\"images/nlp.png\" width=\"800\"></center>"
   ]
  },
  {
   "cell_type": "markdown",
   "metadata": {},
   "source": [
    "The Transformer architecture, introduced in 2017, provided a significant milestone in NMT.  In addition, the Transformer became the basis for the many models developed afterwards, that are used for a range of NLP tasks, which is why we are taking a deep dive now into how it all works."
   ]
  },
  {
   "cell_type": "markdown",
   "metadata": {},
   "source": [
    "# 1.2 Transformer Architecture Overview"
   ]
  },
  {
   "cell_type": "markdown",
   "metadata": {},
   "source": [
    "The Transformer is a competitive alternative to the models using Recurrent Neural Networks (RNNs) for a range of sequence modeling tasks. That's because the Transformer addresses a significant shortcoming of RNNs: their computations are inherently sequential. RNNs must read one word at a time, performing multiple steps to make decisions about the relevance of nearby words to meaning. \n",
    "\n",
    "In contrast, Transformers rely *entirely* on self-attention mechanisms that directly model relationships between all words in a sentence.  A vector is computed for each input symbol (such as a word) containing this context information.  The network is more easily parallelized, and thus more efficient. Transformer, with its self attention mechanism and feed-forward connections, has further advanced the field of NMT, both in terms of translation quality and speed of convergence."
   ]
  },
  {
   "cell_type": "markdown",
   "metadata": {},
   "source": [
    "<center><img src=\"images/Transformer_architecture.png\" width=\"400\"></center>\n",
    "\n",
    "Image credit: [Attention is all you need](https://arxiv.org/abs/1706.03762)."
   ]
  },
  {
   "cell_type": "markdown",
   "metadata": {},
   "source": [
    "In summary, the advantages of the Transformer over the RNN-based sequence-to-sequence (Seq2Seq) models/networks are:\n",
    "1.\tTransformer achieves parallelization by replacing recurrence with attention and encoding the position of each symbol within the input sequence. This results in shorter training time.\n",
    "2.\tTransformer reduces the number of sequential operations to relate two symbols from input/output sequences to a constant O(1) number of operations. Transformer achieves this with the attention mechanism that allows it to model dependencies regardless of their distance in input or output sentence."
   ]
  },
  {
   "cell_type": "markdown",
   "metadata": {},
   "source": [
    "Generally, seq2seq models consist of an encoder and a decoder. The encoder takes the input sequence and maps it into a higher dimensional space, as an n-dimensional vector. This abstract vector is then fed into the decoder, which turns it into an output sequence. The output sequence can be in another language, symbols, or even a picture."
   ]
  },
  {
   "cell_type": "markdown",
   "metadata": {},
   "source": [
    "<center><img src=\"images/enc_dec.png\" width=\"400\"></center>\n",
    "<center> Figure 2: Encoder-Decoder representation. </center>"
   ]
  },
  {
   "cell_type": "markdown",
   "metadata": {},
   "source": [
    "# 1.3 What is Attention?"
   ]
  },
  {
   "cell_type": "markdown",
   "metadata": {},
   "source": [
    "The backbone of the Transformer model is the \"attention\" mechanism. \n",
    "\n",
    "The intuition here is to think of attention in deep learning as an imitation of how a human might look at a visual scene. We don't typically scan everything in our view, but rather focus on the important features, depending on the context of the scene.  Similarly, in language we focus more on certain important words as they apply to other words, again based on context.\n",
    "\n",
    "An attention mechanism looks at an input sequence and decides, at each step, which other parts of the sequence are important. Attention in deep learning can be interpreted as a vector of importance weights. In the example below, we see that “ball” has strong attention to both “tennis” and “playing”, but “tennis” and “dog” are weakly connected."
   ]
  },
  {
   "cell_type": "markdown",
   "metadata": {},
   "source": [
    "<center><img src=\"images/attention1.png\" width=\"600\"></center>\n",
    "\n",
    "<center> Figure 3: Hypotetical example for attention mechanism."
   ]
  },
  {
   "cell_type": "markdown",
   "metadata": {},
   "source": [
    "# 1.4 Transformer Model Overview\n",
    "\n",
    "Let's take a look at the basic Transformer model code, based on the [PyTorch Module](https://pytorch.org/docs/stable/generated/torch.nn.Module.html) base class. The base model is shown in the `forward` method below. Data is passed through the encoder, and then through the decoder."
   ]
  },
  {
   "cell_type": "code",
   "execution_count": 1,
   "metadata": {},
   "outputs": [],
   "source": [
    "import torch.nn as nn\n",
    "class TransformerModel(nn.Module):\n",
    "\n",
    "    def __init__(self, encoder, decoder):\n",
    "        super().__init__()\n",
    "        self._is_generation_fast = False\n",
    "        self.encoder = encoder\n",
    "        self.decoder = decoder\n",
    "        \n",
    "    def forward(self, src_tokens, src_lengths, prev_output_tokens):\n",
    "        encoder_out, padding_mask = self.encoder(src_tokens, src_lengths)\n",
    "        decoder_out = self.decoder(prev_output_tokens, encoder_out, padding_mask)\n",
    "        return decoder_out"
   ]
  },
  {
   "cell_type": "markdown",
   "metadata": {},
   "source": [
    "<h2 style=\"color:green;\">Congratulations!</h2>\n",
    "\n",
    "You've learned that \n",
    "* Transformer \"transformed\" NMT by removing the need for RNNs\n",
    "* Attention mechanisms are the key to the Transormer architecture\n",
    "* The model consists of an encoder and a decoder\n",
    "\n",
    "You'll examine the encoder next - move on to [2.0 Tranformer Encoder](020_Encoder.ipynb)."
   ]
  },
  {
   "cell_type": "markdown",
   "metadata": {},
   "source": [
    "<a href=\"https://www.nvidia.com/dli\"> <img src=\"images/DLI_Header.png\" alt=\"Header\" style=\"width: 400px;\"/> </a>"
   ]
  }
 ],
 "metadata": {
  "kernelspec": {
   "display_name": "Python 3",
   "language": "python",
   "name": "python3"
  },
  "language_info": {
   "codemirror_mode": {
    "name": "ipython",
    "version": 3
   },
   "file_extension": ".py",
   "mimetype": "text/x-python",
   "name": "python",
   "nbconvert_exporter": "python",
   "pygments_lexer": "ipython3",
   "version": "3.6.8"
  },
  "pycharm": {
   "stem_cell": {
    "cell_type": "raw",
    "metadata": {
     "collapsed": false
    },
    "source": []
   }
  },
  "toc": {
   "base_numbering": 1,
   "nav_menu": {},
   "number_sections": true,
   "sideBar": true,
   "skip_h1_title": false,
   "title_cell": "Table of Contents",
   "title_sidebar": "Contents",
   "toc_cell": true,
   "toc_position": {
    "height": "186px",
    "left": "619px",
    "top": "238px",
    "width": "213px"
   },
   "toc_section_display": true,
   "toc_window_display": true
  }
 },
 "nbformat": 4,
 "nbformat_minor": 4
}
